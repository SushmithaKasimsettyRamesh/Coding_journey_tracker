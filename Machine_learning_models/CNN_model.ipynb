{
  "cells": [
    {
      "cell_type": "code",
      "execution_count": 99,
      "metadata": {
        "colab": {
          "base_uri": "https://localhost:8080/",
          "height": 36
        },
        "id": "opdFPDUIUwFr",
        "outputId": "eff64204-83a2-4a4c-c4a1-2cfd191dcff7"
      },
      "outputs": [
        {
          "output_type": "execute_result",
          "data": {
            "text/plain": [
              "'2.8.2'"
            ],
            "application/vnd.google.colaboratory.intrinsic+json": {
              "type": "string"
            }
          },
          "metadata": {},
          "execution_count": 99
        }
      ],
      "source": [
        "# TensorFlow and tf.keras\n",
        "import tensorflow as tf\n",
        "import numpy as np\n",
        "from tensorflow import keras\n",
        "\n",
        "#tf version should be 2.5 or higher\n",
        "tf.__version__\n"
      ]
    },
    {
      "cell_type": "code",
      "execution_count": 100,
      "metadata": {
        "id": "guu3PNkntVuO"
      },
      "outputs": [],
      "source": [
        "#get data\n",
        "(train_images, train_labels), (test_images, test_labels) = \\\n",
        "      keras.datasets.mnist.load_data()"
      ]
    },
    {
      "cell_type": "code",
      "execution_count": 101,
      "metadata": {
        "id": "hDYQO3rwtVuO"
      },
      "outputs": [],
      "source": [
        "#scale model\n",
        "train_images = train_images / 255.0\n",
        "test_images = test_images / 255.0"
      ]
    },
    {
      "cell_type": "code",
      "source": [
        "#reshape inputs of CNN layers\n",
        "train_images = train_images.reshape(train_images.shape[0], 28, 28, 1)\n",
        "test_images = test_images.reshape(test_images.shape[0], 28, 28, 1)"
      ],
      "metadata": {
        "id": "l2ggU67ptfaq"
      },
      "execution_count": 102,
      "outputs": []
    },
    {
      "cell_type": "code",
      "execution_count": 103,
      "metadata": {
        "id": "he0PrxZqtVuO"
      },
      "outputs": [],
      "source": [
        "#setup model\n",
        "model = keras.Sequential([\n",
        "    keras.layers.Conv2D(kernel_size=3, filters = 12, use_bias=False, padding='same',input_shape=(28, 28, 1)),\n",
        "    keras.layers.BatchNormalization(center=True,scale=False),\n",
        "    keras.layers.Activation('relu'),\n",
        "    keras.layers.Conv2D(kernel_size=6, filters = 24, use_bias=False, padding='same',strides = 2),\n",
        "    keras.layers.BatchNormalization(center=True,scale=False),\n",
        "    keras.layers.Activation('relu'),\n",
        "    keras.layers.Conv2D(kernel_size=6, filters = 48, use_bias=False, padding='same', strides = 2),\n",
        "    keras.layers.BatchNormalization(center=True,scale=False),\n",
        "    keras.layers.Activation('relu'),\n",
        "    keras.layers.Flatten(),\n",
        "    keras.layers.Dense(200, use_bias = False),\n",
        "    keras.layers.BatchNormalization(center=True, scale=False),\n",
        "    keras.layers.Activation('relu'),\n",
        "    keras.layers.Dropout(0.4),\n",
        "    keras.layers.Dense(60, use_bias=False),\n",
        "    keras.layers.BatchNormalization(center=True, scale=False),\n",
        "    keras.layers.Activation('relu'),\n",
        "    keras.layers.Dropout(0.4),\n",
        "    keras.layers.Dense(10, activation = 'softmax')\n",
        "])"
      ]
    },
    {
      "cell_type": "code",
      "execution_count": 104,
      "metadata": {
        "id": "dWXzGjTitVuP"
      },
      "outputs": [],
      "source": [
        "#compile model\n",
        "model.compile(optimizer='adam',\n",
        "          loss='sparse_categorical_crossentropy',\n",
        "          metrics=['accuracy'])"
      ]
    },
    {
      "cell_type": "code",
      "execution_count": 105,
      "metadata": {
        "colab": {
          "base_uri": "https://localhost:8080/"
        },
        "id": "Tj8kad37tVuP",
        "outputId": "b2c3bd75-df72-4362-da9d-51232708d298"
      },
      "outputs": [
        {
          "output_type": "stream",
          "name": "stdout",
          "text": [
            "Epoch 1/10\n",
            "1875/1875 [==============================] - 103s 55ms/step - loss: 0.2397 - accuracy: 0.9367\n",
            "Epoch 2/10\n",
            "1875/1875 [==============================] - 103s 55ms/step - loss: 0.0893 - accuracy: 0.9761\n",
            "Epoch 3/10\n",
            "1875/1875 [==============================] - 102s 55ms/step - loss: 0.0660 - accuracy: 0.9817\n",
            "Epoch 4/10\n",
            "1875/1875 [==============================] - 102s 55ms/step - loss: 0.0563 - accuracy: 0.9843\n",
            "Epoch 5/10\n",
            "1875/1875 [==============================] - 102s 54ms/step - loss: 0.0463 - accuracy: 0.9872\n",
            "Epoch 6/10\n",
            "1875/1875 [==============================] - 103s 55ms/step - loss: 0.0399 - accuracy: 0.9892\n",
            "Epoch 7/10\n",
            "1875/1875 [==============================] - 103s 55ms/step - loss: 0.0370 - accuracy: 0.9900\n",
            "Epoch 8/10\n",
            "1875/1875 [==============================] - 103s 55ms/step - loss: 0.0285 - accuracy: 0.9921\n",
            "Epoch 9/10\n",
            "1875/1875 [==============================] - 103s 55ms/step - loss: 0.0288 - accuracy: 0.9919\n",
            "Epoch 10/10\n",
            "1875/1875 [==============================] - 103s 55ms/step - loss: 0.0261 - accuracy: 0.9926\n"
          ]
        },
        {
          "output_type": "execute_result",
          "data": {
            "text/plain": [
              "<keras.callbacks.History at 0x7fb4cec9d410>"
            ]
          },
          "metadata": {},
          "execution_count": 105
        }
      ],
      "source": [
        "#train model\n",
        "model.fit(train_images, train_labels, epochs=10)"
      ]
    },
    {
      "cell_type": "code",
      "execution_count": 106,
      "metadata": {
        "colab": {
          "base_uri": "https://localhost:8080/"
        },
        "id": "_DdboIIwtVuQ",
        "outputId": "1245717e-0a67-44ed-babf-f8c37c998c5c"
      },
      "outputs": [
        {
          "output_type": "stream",
          "name": "stdout",
          "text": [
            "313/313 [==============================] - 5s 14ms/step - loss: 0.0241 - accuracy: 0.9935\n",
            "\n",
            "Test accuracy: 0.9934999942779541\n"
          ]
        }
      ],
      "source": [
        "#evaluate\n",
        "test_loss, test_acc = model.evaluate(test_images,  test_labels)\n",
        "print('\\nTest accuracy:', test_acc)"
      ]
    },
    {
      "cell_type": "code",
      "execution_count": 107,
      "metadata": {
        "id": "HB1_2DsAtVuQ"
      },
      "outputs": [],
      "source": [
        "# Predict on the first 5 test images.\n",
        "predictions = model.predict(test_images[:5])"
      ]
    },
    {
      "cell_type": "code",
      "execution_count": 108,
      "metadata": {
        "colab": {
          "base_uri": "https://localhost:8080/"
        },
        "id": "dbv2pR4gtVuR",
        "outputId": "db4f9ba6-1d98-4e94-f4d5-1c719bd6ced0"
      },
      "outputs": [
        {
          "output_type": "execute_result",
          "data": {
            "text/plain": [
              "array([[1.34107361e-11, 9.34843758e-10, 3.15019233e-10, 6.24190977e-10,\n",
              "        3.26953487e-09, 8.19105950e-10, 3.03750341e-12, 1.00000000e+00,\n",
              "        2.22549149e-12, 9.70081460e-10],\n",
              "       [4.76543818e-08, 9.77496768e-08, 9.99999881e-01, 2.21444036e-08,\n",
              "        1.70631353e-09, 1.24748434e-10, 9.76257297e-09, 4.08261380e-09,\n",
              "        7.17012782e-10, 2.47637105e-10],\n",
              "       [5.01918151e-09, 9.99999762e-01, 1.34762856e-09, 5.77264514e-10,\n",
              "        1.47821924e-08, 8.24656621e-10, 1.53812751e-09, 1.69407983e-07,\n",
              "        6.42318625e-08, 7.14639792e-10],\n",
              "       [9.99940991e-01, 1.31111292e-07, 4.73643098e-07, 2.21750938e-08,\n",
              "        1.28232017e-07, 1.13034908e-07, 5.59915534e-05, 3.73782640e-08,\n",
              "        1.89977854e-07, 1.84141550e-06],\n",
              "       [1.91389127e-09, 8.90464094e-08, 2.96804501e-08, 1.53764734e-08,\n",
              "        9.99917746e-01, 1.59801075e-07, 1.18510826e-07, 4.26580762e-08,\n",
              "        5.34673710e-08, 8.16692918e-05]], dtype=float32)"
            ]
          },
          "metadata": {},
          "execution_count": 108
        }
      ],
      "source": [
        "#Raw predictions\n",
        "predictions"
      ]
    },
    {
      "cell_type": "code",
      "execution_count": 109,
      "metadata": {
        "colab": {
          "base_uri": "https://localhost:8080/"
        },
        "id": "BYb1ieNYtVuR",
        "outputId": "42842d5b-8882-4c44-9652-65c061fef437"
      },
      "outputs": [
        {
          "output_type": "stream",
          "name": "stdout",
          "text": [
            "[7 2 1 0 4]\n"
          ]
        }
      ],
      "source": [
        "# Print our model's predictions\n",
        "print(np.argmax(predictions, axis=1))"
      ]
    },
    {
      "cell_type": "code",
      "execution_count": 110,
      "metadata": {
        "colab": {
          "base_uri": "https://localhost:8080/"
        },
        "id": "YAB3SLk9tVuS",
        "outputId": "6587093f-dcdb-4de1-8dfa-185eb8b25298"
      },
      "outputs": [
        {
          "output_type": "stream",
          "name": "stdout",
          "text": [
            "[7 2 1 0 4]\n"
          ]
        }
      ],
      "source": [
        "# Check our predictions against the ground truths\n",
        "print(test_labels[:5]) # [7, 2, 1, 0, 4]"
      ]
    },
    {
      "cell_type": "code",
      "execution_count": 110,
      "metadata": {
        "id": "6VblTknrtVuS"
      },
      "outputs": [],
      "source": []
    },
    {
      "cell_type": "code",
      "execution_count": 110,
      "metadata": {
        "id": "B9T4I37ZtVuS"
      },
      "outputs": [],
      "source": [
        "Comments:\n",
        "To get the accuracy of more than 99.3%, firstly, I changed the optimizer to adam, added dense layers, changed the activation to relu. \n",
        "But I couldn't get the desired output. Later, filters were added. As mentioned in the lecture slides. I added the drop out layers with \n",
        "40% between each dense layers and batch normalization, I could get the accuracy of 99.34%. "
      ]
    }
  ],
  "metadata": {
    "colab": {
      "provenance": [],
      "collapsed_sections": []
    },
    "kernelspec": {
      "display_name": "Python 3 (ipykernel)",
      "language": "python",
      "name": "python3"
    },
    "language_info": {
      "codemirror_mode": {
        "name": "ipython",
        "version": 3
      },
      "file_extension": ".py",
      "mimetype": "text/x-python",
      "name": "python",
      "nbconvert_exporter": "python",
      "pygments_lexer": "ipython3",
      "version": "3.9.13"
    }
  },
  "nbformat": 4,
  "nbformat_minor": 0
}